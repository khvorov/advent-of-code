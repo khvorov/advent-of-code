{
 "cells": [
  {
   "cell_type": "code",
   "execution_count": 1,
   "metadata": {},
   "outputs": [],
   "source": [
    "# data = [1,9,10,3,2,3,11,0,99,30,40,50]\n",
    "# data = [1, 0, 0, 0, 99]\n",
    "# data = [1,1,1,4,99,5,6,0,99]\n",
    "# data = [2,4,4,5,99,0]\n",
    "\n",
    "data = [1,0,0,3,1,1,2,3,1,3,4,3,1,5,0,3,2,9,1,19,1,19,5,23,1,23,6,27,2,9,27,31,1,5,31,35,1,35,10,39,1,39,10,43,2,43,9,47,1,6,47,51,2,51,6,55,1,5,55,59,2,59,10,63,1,9,63,67,1,9,67,71,2,71,6,75,1,5,75,79,1,5,79,83,1,9,83,87,2,87,10,91,2,10,91,95,1,95,9,99,2,99,9,103,2,10,103,107,2,9,107,111,1,111,5,115,1,115,2,119,1,119,6,0,99,2,0,14,0]"
   ]
  },
  {
   "cell_type": "code",
   "execution_count": 2,
   "metadata": {},
   "outputs": [],
   "source": [
    "ADD = 1\n",
    "MUL = 2\n",
    "HALT = 99\n",
    "\n",
    "def run_program(prog, noon, verb):\n",
    "    prog[1] = noon\n",
    "    prog[2] = verb\n",
    "    pc = 0\n",
    "    \n",
    "    while prog[pc] != HALT:\n",
    "        opcode = prog[pc]\n",
    "\n",
    "        if opcode == ADD:\n",
    "            prog[prog[pc + 3]] = prog[prog[pc + 1]] + prog[prog[pc + 2]]\n",
    "        elif opcode == MUL:\n",
    "            prog[prog[pc + 3]] = prog[prog[pc + 1]] * prog[prog[pc + 2]]\n",
    "        else:\n",
    "            raise f'Unknown opcode {opcode}, pc = {pc}'\n",
    "        \n",
    "        pc += 4\n",
    "    \n",
    "    return dd[0]"
   ]
  },
  {
   "cell_type": "code",
   "execution_count": 3,
   "metadata": {},
   "outputs": [
    {
     "data": {
      "text/plain": [
       "3516593"
      ]
     },
     "execution_count": 3,
     "metadata": {},
     "output_type": "execute_result"
    }
   ],
   "source": [
    "dd = data.copy()\n",
    "run_program(dd, 12, 2)"
   ]
  },
  {
   "cell_type": "code",
   "execution_count": 4,
   "metadata": {},
   "outputs": [
    {
     "name": "stdout",
     "output_type": "stream",
     "text": [
      "done: 77, 49\n",
      "CPU times: user 146 ms, sys: 1 ms, total: 147 ms\n",
      "Wall time: 146 ms\n"
     ]
    }
   ],
   "source": [
    "%%time\n",
    "\n",
    "# linear search\n",
    "for noon in range(100):\n",
    "    for verb in range(100):\n",
    "        dd = data.copy()\n",
    "        if run_program(dd, noon, verb) == 19690720:\n",
    "            print(f'done: {noon}, {verb}')\n",
    "            break"
   ]
  },
  {
   "cell_type": "code",
   "execution_count": 5,
   "metadata": {},
   "outputs": [
    {
     "name": "stdout",
     "output_type": "stream",
     "text": [
      "done: 77, 49\n",
      "CPU times: user 461 µs, sys: 0 ns, total: 461 µs\n",
      "Wall time: 403 µs\n"
     ]
    }
   ],
   "source": [
    "%%time\n",
    "\n",
    "# binary search\n",
    "SEARCH_VALUE = 19690720\n",
    "k = 100 * 100\n",
    "\n",
    "pos = 0\n",
    "\n",
    "while k > 0:\n",
    "    step = k // 2\n",
    "    it = pos + step\n",
    "\n",
    "    noon = it // 100\n",
    "    verb = it % 100    \n",
    "    dd = data.copy()\n",
    "    res = run_program(dd, noon, verb)\n",
    "    \n",
    "    if res == SEARCH_VALUE:\n",
    "        print(f'done: {noon}, {verb}')\n",
    "        break\n",
    "    elif res < SEARCH_VALUE:\n",
    "        pos = it + 1\n",
    "        k -= step + 1\n",
    "    else:\n",
    "        k = step"
   ]
  },
  {
   "cell_type": "code",
   "execution_count": null,
   "metadata": {},
   "outputs": [],
   "source": []
  }
 ],
 "metadata": {
  "kernelspec": {
   "display_name": "Python 3",
   "language": "python",
   "name": "python3"
  },
  "language_info": {
   "codemirror_mode": {
    "name": "ipython",
    "version": 3
   },
   "file_extension": ".py",
   "mimetype": "text/x-python",
   "name": "python",
   "nbconvert_exporter": "python",
   "pygments_lexer": "ipython3",
   "version": "3.6.9"
  }
 },
 "nbformat": 4,
 "nbformat_minor": 2
}
