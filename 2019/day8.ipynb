{
 "cells": [
  {
   "cell_type": "code",
   "execution_count": 1,
   "metadata": {},
   "outputs": [],
   "source": [
    "import numpy as np"
   ]
  },
  {
   "cell_type": "code",
   "execution_count": 2,
   "metadata": {},
   "outputs": [],
   "source": [
    "WIDTH = 25\n",
    "HEIGHT = 6"
   ]
  },
  {
   "cell_type": "code",
   "execution_count": 3,
   "metadata": {},
   "outputs": [],
   "source": [
    "with open('day8-input.txt') as in_file:\n",
    "    data = [int(s) for s in in_file.read()]\n",
    "    \n",
    "layers = np.array(data).reshape(-1, WIDTH * HEIGHT)"
   ]
  },
  {
   "cell_type": "code",
   "execution_count": 4,
   "metadata": {},
   "outputs": [
    {
     "name": "stdout",
     "output_type": "stream",
     "text": [
      "[ 14  12 124]\n",
      "[  9   9 132]\n",
      "[  8  10 132]\n"
     ]
    }
   ],
   "source": [
    "zeroes_count = np.inf\n",
    "min_count = None\n",
    "\n",
    "for i in layers:\n",
    "    _, counts = np.unique(i, return_counts=True)\n",
    "    \n",
    "    if counts[0] < zeroes_count:\n",
    "        zeroes_count = counts[0]\n",
    "        min_count = counts\n",
    "        print(counts)"
   ]
  },
  {
   "cell_type": "code",
   "execution_count": 5,
   "metadata": {},
   "outputs": [
    {
     "data": {
      "text/plain": [
       "1320"
      ]
     },
     "execution_count": 5,
     "metadata": {},
     "output_type": "execute_result"
    }
   ],
   "source": [
    "# part 1\n",
    "min_count[1] * min_count[2]"
   ]
  },
  {
   "cell_type": "code",
   "execution_count": 6,
   "metadata": {
    "scrolled": false
   },
   "outputs": [],
   "source": [
    "flayers = layers[::-1]\n",
    "res = flayers[0]\n",
    "\n",
    "for i in flayers:\n",
    "    i[i == 2] = res[i == 2]\n",
    "    res = i"
   ]
  },
  {
   "cell_type": "code",
   "execution_count": 7,
   "metadata": {},
   "outputs": [
    {
     "name": "stdout",
     "output_type": "stream",
     "text": [
      "###   ##  #   ##  # ###  \n",
      "#  # #  # #   ## #  #  # \n",
      "#  # #     # # ##   #  # \n",
      "###  #      #  # #  ###  \n",
      "# #  #  #   #  # #  # #  \n",
      "#  #  ##    #  #  # #  # \n"
     ]
    }
   ],
   "source": [
    "# part 2\n",
    "for a in res.reshape(HEIGHT, WIDTH):\n",
    "    ss = ['#' if i else ' ' for i in a]\n",
    "    print(''.join(ss))"
   ]
  },
  {
   "cell_type": "code",
   "execution_count": null,
   "metadata": {},
   "outputs": [],
   "source": []
  },
  {
   "cell_type": "code",
   "execution_count": null,
   "metadata": {},
   "outputs": [],
   "source": []
  },
  {
   "cell_type": "code",
   "execution_count": null,
   "metadata": {},
   "outputs": [],
   "source": []
  }
 ],
 "metadata": {
  "kernelspec": {
   "display_name": "Python 3",
   "language": "python",
   "name": "python3"
  },
  "language_info": {
   "codemirror_mode": {
    "name": "ipython",
    "version": 3
   },
   "file_extension": ".py",
   "mimetype": "text/x-python",
   "name": "python",
   "nbconvert_exporter": "python",
   "pygments_lexer": "ipython3",
   "version": "3.6.9"
  }
 },
 "nbformat": 4,
 "nbformat_minor": 2
}
