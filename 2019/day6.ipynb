{
 "cells": [
  {
   "cell_type": "code",
   "execution_count": 1,
   "metadata": {},
   "outputs": [],
   "source": [
    "import re\n",
    "from collections import defaultdict"
   ]
  },
  {
   "cell_type": "code",
   "execution_count": 2,
   "metadata": {},
   "outputs": [],
   "source": [
    "with open('day6-input.txt') as f:\n",
    "    orb_re = re.compile('(\\w+)\\)(\\w+)')\n",
    "    input = [(m[1], m[2]) for m in [orb_re.match(l.strip()) for l in f.readlines()]]\n",
    "    \n",
    "edges = defaultdict(list)\n",
    "for i in input:\n",
    "    edges[i[0]].append(i[1])"
   ]
  },
  {
   "cell_type": "code",
   "execution_count": 3,
   "metadata": {},
   "outputs": [
    {
     "name": "stdout",
     "output_type": "stream",
     "text": [
      "CPU times: user 1.2 ms, sys: 18 µs, total: 1.21 ms\n",
      "Wall time: 1.22 ms\n"
     ]
    }
   ],
   "source": [
    "%%time\n",
    "st = [('COM', 0)]\n",
    "total = 0\n",
    "\n",
    "while st:\n",
    "    edge, depth = st.pop()\n",
    "    total += depth\n",
    "\n",
    "    for e in edges[edge]:\n",
    "        st.append((e, depth + 1))"
   ]
  },
  {
   "cell_type": "code",
   "execution_count": 4,
   "metadata": {},
   "outputs": [
    {
     "data": {
      "text/plain": [
       "278744"
      ]
     },
     "execution_count": 4,
     "metadata": {},
     "output_type": "execute_result"
    }
   ],
   "source": [
    "total"
   ]
  },
  {
   "cell_type": "code",
   "execution_count": 5,
   "metadata": {},
   "outputs": [],
   "source": [
    "# part 2\n",
    "edges = dict()\n",
    "\n",
    "for i in input:\n",
    "    edges[i[1]] = i[0]"
   ]
  },
  {
   "cell_type": "code",
   "execution_count": 6,
   "metadata": {},
   "outputs": [],
   "source": [
    "def path(e1, e2):\n",
    "    res = [e1]\n",
    "    curr = e1\n",
    "    \n",
    "    while curr != e2:\n",
    "        if curr not in edges:\n",
    "            break\n",
    "\n",
    "        curr = edges[curr]\n",
    "        res.append(curr)\n",
    "\n",
    "    return list(reversed(res)) if curr == e2 else None"
   ]
  },
  {
   "cell_type": "code",
   "execution_count": 7,
   "metadata": {},
   "outputs": [
    {
     "name": "stdout",
     "output_type": "stream",
     "text": [
      "CPU times: user 189 µs, sys: 18 µs, total: 207 µs\n",
      "Wall time: 212 µs\n"
     ]
    }
   ],
   "source": [
    "%%time\n",
    "y2c = path('YOU', 'COM')\n",
    "s2c = path('SAN', 'COM')\n",
    "\n",
    "for i in range(min(len(y2c), len(s2c))):\n",
    "    if y2c[i] != s2c[i]:\n",
    "        break\n",
    "\n",
    "res = len(s2c) + len(y2c) - 2 * (i + 1)"
   ]
  },
  {
   "cell_type": "code",
   "execution_count": 8,
   "metadata": {},
   "outputs": [
    {
     "data": {
      "text/plain": [
       "475"
      ]
     },
     "execution_count": 8,
     "metadata": {},
     "output_type": "execute_result"
    }
   ],
   "source": [
    "res"
   ]
  },
  {
   "cell_type": "code",
   "execution_count": null,
   "metadata": {},
   "outputs": [],
   "source": []
  }
 ],
 "metadata": {
  "kernelspec": {
   "display_name": "Python 3",
   "language": "python",
   "name": "python3"
  },
  "language_info": {
   "codemirror_mode": {
    "name": "ipython",
    "version": 3
   },
   "file_extension": ".py",
   "mimetype": "text/x-python",
   "name": "python",
   "nbconvert_exporter": "python",
   "pygments_lexer": "ipython3",
   "version": "3.6.9"
  }
 },
 "nbformat": 4,
 "nbformat_minor": 2
}
