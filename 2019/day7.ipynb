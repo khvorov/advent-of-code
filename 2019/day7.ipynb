{
 "cells": [
  {
   "cell_type": "code",
   "execution_count": null,
   "metadata": {},
   "outputs": [],
   "source": [
    "from functools import reduce\n",
    "from itertools import permutations"
   ]
  },
  {
   "cell_type": "code",
   "execution_count": 1,
   "metadata": {},
   "outputs": [],
   "source": [
    "program = [3,8,1001,8,10,8,105,1,0,0,21,46,55,76,89,106,187,268,349,430,99999,3,9,101,4,9,9,1002,9,2,9,101,5,9,9,1002,9,2,9,101,2,9,9,4,9,99,3,9,1002,9,5,9,4,9,99,3,9,1001,9,2,9,1002,9,4,9,101,2,9,9,1002,9,3,9,4,9,99,3,9,1001,9,3,9,1002,9,2,9,4,9,99,3,9,1002,9,4,9,1001,9,4,9,102,5,9,9,4,9,99,3,9,101,1,9,9,4,9,3,9,102,2,9,9,4,9,3,9,1001,9,2,9,4,9,3,9,101,2,9,9,4,9,3,9,1001,9,1,9,4,9,3,9,101,1,9,9,4,9,3,9,102,2,9,9,4,9,3,9,102,2,9,9,4,9,3,9,1002,9,2,9,4,9,3,9,101,1,9,9,4,9,99,3,9,102,2,9,9,4,9,3,9,1002,9,2,9,4,9,3,9,101,1,9,9,4,9,3,9,101,2,9,9,4,9,3,9,102,2,9,9,4,9,3,9,102,2,9,9,4,9,3,9,102,2,9,9,4,9,3,9,1001,9,1,9,4,9,3,9,101,2,9,9,4,9,3,9,1002,9,2,9,4,9,99,3,9,101,1,9,9,4,9,3,9,101,1,9,9,4,9,3,9,101,2,9,9,4,9,3,9,1002,9,2,9,4,9,3,9,1001,9,2,9,4,9,3,9,1001,9,1,9,4,9,3,9,1001,9,2,9,4,9,3,9,102,2,9,9,4,9,3,9,102,2,9,9,4,9,3,9,102,2,9,9,4,9,99,3,9,101,1,9,9,4,9,3,9,102,2,9,9,4,9,3,9,101,2,9,9,4,9,3,9,101,1,9,9,4,9,3,9,102,2,9,9,4,9,3,9,1002,9,2,9,4,9,3,9,102,2,9,9,4,9,3,9,1001,9,2,9,4,9,3,9,102,2,9,9,4,9,3,9,101,1,9,9,4,9,99,3,9,1001,9,1,9,4,9,3,9,1001,9,1,9,4,9,3,9,102,2,9,9,4,9,3,9,102,2,9,9,4,9,3,9,1001,9,1,9,4,9,3,9,1001,9,1,9,4,9,3,9,1001,9,1,9,4,9,3,9,1002,9,2,9,4,9,3,9,101,2,9,9,4,9,3,9,101,1,9,9,4,9,99]"
   ]
  },
  {
   "cell_type": "code",
   "execution_count": 2,
   "metadata": {},
   "outputs": [],
   "source": [
    "ADD = 1\n",
    "MUL = 2\n",
    "SAV = 3\n",
    "OUT = 4\n",
    "JT = 5\n",
    "JF = 6\n",
    "LT = 7\n",
    "EQ = 8\n",
    "HLT = 99\n",
    "\n",
    "class IntCode(object):\n",
    "    def __init__(self, prog: list):\n",
    "        self.__orig_prog = prog.copy()\n",
    "        self.restart()\n",
    "    \n",
    "    def restart(self):\n",
    "        self.prog = self.__orig_prog.copy()\n",
    "        self.pc = 0\n",
    "        self.halted = False\n",
    "        self.output = None\n",
    "\n",
    "    @staticmethod\n",
    "    def __decode_opcode(op):\n",
    "        opcode = op % 100\n",
    "        mode1 = (op // 100) % 10\n",
    "        mode2 = (op // 1000) % 10\n",
    "        mode3 = (op // 10000) % 10\n",
    "\n",
    "        return (opcode, mode1, mode2, mode3)\n",
    "\n",
    "    @staticmethod\n",
    "    def __validate_opcode(opcode):\n",
    "        if not (opcode == ADD or opcode == MUL or\n",
    "                opcode == SAV or opcode == OUT or\n",
    "                opcode == JT or opcode == JF or\n",
    "                opcode == LT or opcode == EQ or\n",
    "                opcode == HLT):\n",
    "            raise RuntimeError(f'Unknown opcode {opcode}')\n",
    "\n",
    "    def __get_arg(self, p, mode):\n",
    "        arg = self.prog[self.pc + p]\n",
    "        return self.prog[arg] if mode == 0 else arg\n",
    "    \n",
    "    def __execute_opcode(self, input, opcode, mode1, mode2, mode3):\n",
    "        self.__validate_opcode(opcode)\n",
    "\n",
    "        pc = self.pc\n",
    "\n",
    "        # SAV, OUT\n",
    "        if opcode == SAV:\n",
    "            self.prog[self.prog[pc + 1]] = input\n",
    "            return (pc + 2, None)\n",
    "        elif opcode == OUT:\n",
    "            return (pc + 2, self.prog[self.prog[pc + 1]])\n",
    "\n",
    "        arg1 = self.__get_arg(1, mode1)\n",
    "        arg2 = self.__get_arg(2, mode2)\n",
    "\n",
    "        # conditions\n",
    "        if opcode == JT:\n",
    "            return (arg2 if arg1 else pc + 3, None)\n",
    "        elif opcode == JF:\n",
    "            return (arg2 if not arg1 else pc + 3, None)\n",
    "        elif opcode == LT:\n",
    "            self.prog[self.prog[pc + 3]] = 1 if arg1 < arg2 else 0\n",
    "            return (pc + 4, None)\n",
    "        elif opcode == EQ:\n",
    "            self.prog[self.prog[pc + 3]] = 1 if arg1 == arg2 else 0\n",
    "            return (pc + 4, None)\n",
    "\n",
    "        # ADD, MUL\n",
    "        if opcode == ADD:\n",
    "            self.prog[self.prog[pc + 3]] = arg1 + arg2\n",
    "        elif opcode == MUL:\n",
    "            self.prog[self.prog[pc + 3]] = arg1 * arg2\n",
    "\n",
    "        return (pc + 4, None)\n",
    "\n",
    "    def run(self, inputs, stop_on_out = True):\n",
    "        if self.halted:\n",
    "            return self.output\n",
    "\n",
    "        curr_input = 0\n",
    "\n",
    "        while self.prog[self.pc] != HLT:\n",
    "            try:\n",
    "                opcode = self.prog[self.pc]\n",
    "                dec = self.__decode_opcode(opcode)\n",
    "\n",
    "                inp = None\n",
    "                if dec[0] == SAV:\n",
    "                    inp = inputs[curr_input] #min(len(inputs) - 1, curr_input)]\n",
    "                    curr_input += 1\n",
    "\n",
    "                self.pc, out = self.__execute_opcode(inp, *dec)\n",
    "#                 print(f'aaa: {self.pc}: {self.prog}')\n",
    "\n",
    "                if out != None:\n",
    "                    self.output = out\n",
    "                    if stop_on_out:\n",
    "                        return self.output\n",
    "            except Exception as e:\n",
    "                print(f'Error: pc = {self.pc}\\nprog = {self.prog}\\ninput: {inputs}\\nexception: {e}')\n",
    "                raise\n",
    "\n",
    "        self.halted = True\n",
    "        return self.output"
   ]
  },
  {
   "cell_type": "code",
   "execution_count": 26,
   "metadata": {},
   "outputs": [
    {
     "name": "stdout",
     "output_type": "stream",
     "text": [
      "(4, 3, 2, 1, 0): 56012\n",
      "(4, 3, 2, 1, 0): 56021\n",
      "(4, 3, 2, 1, 0): 56102\n",
      "(4, 3, 2, 1, 0): 56120\n",
      "(4, 3, 2, 1, 0): 56201\n",
      "(4, 3, 2, 1, 0): 56210\n",
      "(4, 3, 2, 1, 0): 65012\n",
      "(4, 3, 2, 1, 0): 65021\n",
      "(4, 3, 2, 1, 0): 65102\n",
      "(4, 3, 2, 1, 0): 65120\n",
      "(4, 3, 2, 1, 0): 65201\n",
      "(4, 3, 2, 1, 0): 65210\n",
      "CPU times: user 16.7 ms, sys: 1.99 ms, total: 18.7 ms\n",
      "Wall time: 18.1 ms\n"
     ]
    }
   ],
   "source": [
    "%%time\n",
    "# program = [3,15,3,16,1002,16,10,16,1,16,15,15,4,15,99,0,0]\n",
    "program = [3,31,3,32,1002,32,10,32,1001,31,-2,31,1007,31,0,33,1002,33,7,33,1,33,31,31,1,32,31,31,4,31,99,0,0,0]\n",
    "# program = [3,23,3,24,1002,24,10,24,1002,23,-1,23,101,5,23,23,1,24,23,23,4,23,99,0,0]\n",
    "\n",
    "max_res = float('-inf')\n",
    "\n",
    "for inp in list(permutations(range(0, 5))):\n",
    "    ics = [IntCode(program) for _ in range(0, 5)]\n",
    "\n",
    "    # run until all of them are halted\n",
    "    res = 0\n",
    "    for s in range(0, 5):\n",
    "        res = ics[s].run([inp[s], res], False)\n",
    "\n",
    "    if res > max_res:\n",
    "        max_res = res\n",
    "        print(f'{input1}: {res}')"
   ]
  },
  {
   "cell_type": "code",
   "execution_count": null,
   "metadata": {},
   "outputs": [],
   "source": []
  },
  {
   "cell_type": "code",
   "execution_count": 4,
   "metadata": {},
   "outputs": [],
   "source": []
  },
  {
   "cell_type": "code",
   "execution_count": 27,
   "metadata": {},
   "outputs": [
    {
     "name": "stdout",
     "output_type": "stream",
     "text": [
      "(5, 6, 7, 8, 9): 23\n",
      "CPU times: user 54.6 ms, sys: 3.01 ms, total: 57.6 ms\n",
      "Wall time: 55.5 ms\n"
     ]
    }
   ],
   "source": [
    "%%time\n",
    "program = [3,26,1001,26,-4,26,3,27,1002,27,2,27,1,27,26,27,4,27,1001,28,-1,28,1005,28,6,99,0,0,5]\n",
    "# program = [3,52,1001,52,-5,52,3,53,1,52,56,54,1007,54,5,55,1005,55,26,1001,54,\n",
    "#            -5,54,1105,1,12,1,53,54,53,1008,54,0,55,1001,55,1,55,2,53,55,53,4,\n",
    "#            53,1001,56,-1,56,1005,56,6,99,0,0,0,0,10]\n",
    "\n",
    "max_res = float('-inf')\n",
    "\n",
    "for inp in list(permutations(range(5, 10))):\n",
    "    ics = [IntCode(program) for _ in range(0, 5)]\n",
    "\n",
    "    # run until all of them are halted\n",
    "    res = 0\n",
    "    while not reduce(lambda x, y: x and y, [s.halted for s in ics]):\n",
    "        for s in range(0, 5):\n",
    "            res = ics[s].run([inp[s], res])\n",
    "\n",
    "    if res > max_res:\n",
    "        max_res = res\n",
    "        print(f'{inp}: {res}')"
   ]
  },
  {
   "cell_type": "code",
   "execution_count": 12,
   "metadata": {},
   "outputs": [
    {
     "data": {
      "text/plain": [
       "6"
      ]
     },
     "execution_count": 12,
     "metadata": {},
     "output_type": "execute_result"
    }
   ],
   "source": [
    "ics[4].output"
   ]
  },
  {
   "cell_type": "code",
   "execution_count": 14,
   "metadata": {},
   "outputs": [],
   "source": []
  }
 ],
 "metadata": {
  "kernelspec": {
   "display_name": "Python 3",
   "language": "python",
   "name": "python3"
  },
  "language_info": {
   "codemirror_mode": {
    "name": "ipython",
    "version": 3
   },
   "file_extension": ".py",
   "mimetype": "text/x-python",
   "name": "python",
   "nbconvert_exporter": "python",
   "pygments_lexer": "ipython3",
   "version": "3.6.9"
  }
 },
 "nbformat": 4,
 "nbformat_minor": 2
}
