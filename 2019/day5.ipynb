{
 "cells": [
  {
   "cell_type": "code",
   "execution_count": 1,
   "metadata": {},
   "outputs": [],
   "source": [
    "program = [3,225,1,225,6,6,1100,1,238,225,104,0,1001,152,55,224,1001,224,-68,224,4,224,1002,223,8,223,1001,224,4,224,1,224,223,223,1101,62,41,225,1101,83,71,225,102,59,147,224,101,-944,224,224,4,224,1002,223,8,223,101,3,224,224,1,224,223,223,2,40,139,224,1001,224,-3905,224,4,224,1002,223,8,223,101,7,224,224,1,223,224,223,1101,6,94,224,101,-100,224,224,4,224,1002,223,8,223,101,6,224,224,1,224,223,223,1102,75,30,225,1102,70,44,224,101,-3080,224,224,4,224,1002,223,8,223,1001,224,4,224,1,223,224,223,1101,55,20,225,1102,55,16,225,1102,13,94,225,1102,16,55,225,1102,13,13,225,1,109,143,224,101,-88,224,224,4,224,1002,223,8,223,1001,224,2,224,1,223,224,223,1002,136,57,224,101,-1140,224,224,4,224,1002,223,8,223,101,6,224,224,1,223,224,223,101,76,35,224,1001,224,-138,224,4,224,1002,223,8,223,101,5,224,224,1,223,224,223,4,223,99,0,0,0,677,0,0,0,0,0,0,0,0,0,0,0,1105,0,99999,1105,227,247,1105,1,99999,1005,227,99999,1005,0,256,1105,1,99999,1106,227,99999,1106,0,265,1105,1,99999,1006,0,99999,1006,227,274,1105,1,99999,1105,1,280,1105,1,99999,1,225,225,225,1101,294,0,0,105,1,0,1105,1,99999,1106,0,300,1105,1,99999,1,225,225,225,1101,314,0,0,106,0,0,1105,1,99999,1008,677,677,224,1002,223,2,223,1006,224,329,1001,223,1,223,8,677,226,224,102,2,223,223,1006,224,344,101,1,223,223,1107,226,226,224,1002,223,2,223,1006,224,359,1001,223,1,223,1108,677,226,224,102,2,223,223,1005,224,374,1001,223,1,223,1007,226,226,224,102,2,223,223,1006,224,389,1001,223,1,223,108,677,677,224,1002,223,2,223,1005,224,404,1001,223,1,223,1007,677,677,224,102,2,223,223,1005,224,419,1001,223,1,223,8,226,677,224,102,2,223,223,1005,224,434,101,1,223,223,1008,677,226,224,102,2,223,223,1006,224,449,1001,223,1,223,7,677,677,224,102,2,223,223,1006,224,464,1001,223,1,223,8,226,226,224,1002,223,2,223,1005,224,479,1001,223,1,223,7,226,677,224,102,2,223,223,1006,224,494,1001,223,1,223,7,677,226,224,1002,223,2,223,1005,224,509,101,1,223,223,107,677,677,224,102,2,223,223,1006,224,524,101,1,223,223,1007,677,226,224,102,2,223,223,1006,224,539,101,1,223,223,107,226,226,224,1002,223,2,223,1006,224,554,101,1,223,223,1008,226,226,224,102,2,223,223,1006,224,569,1001,223,1,223,1107,677,226,224,1002,223,2,223,1005,224,584,101,1,223,223,1107,226,677,224,102,2,223,223,1005,224,599,101,1,223,223,1108,226,677,224,102,2,223,223,1005,224,614,101,1,223,223,108,677,226,224,102,2,223,223,1005,224,629,101,1,223,223,107,226,677,224,102,2,223,223,1006,224,644,1001,223,1,223,1108,226,226,224,1002,223,2,223,1006,224,659,101,1,223,223,108,226,226,224,102,2,223,223,1005,224,674,101,1,223,223,4,223,99,226]"
   ]
  },
  {
   "cell_type": "code",
   "execution_count": 2,
   "metadata": {},
   "outputs": [],
   "source": [
    "ADD = 1\n",
    "MUL = 2\n",
    "SAV = 3\n",
    "OUT = 4\n",
    "JT = 5\n",
    "JF = 6\n",
    "LT = 7\n",
    "EQ = 8\n",
    "HLT = 99\n",
    "\n",
    "def decode_opcode(op):\n",
    "    opcode = op % 100\n",
    "    mode1 = (op // 100) % 10\n",
    "    mode2 = (op // 1000) % 10\n",
    "    mode3 = (op // 10000) % 10\n",
    "    \n",
    "    return (opcode, mode1, mode2, mode3)\n",
    "\n",
    "def validate_opcode(opcode, pc):\n",
    "    if not (opcode == ADD or opcode == MUL or\n",
    "            opcode == SAV or opcode == OUT or\n",
    "            opcode == JT or opcode == JF or\n",
    "            opcode == LT or opcode == EQ or\n",
    "            opcode == HLT):\n",
    "        raise RuntimeError(f'Unknown opcode {opcode}, pc = {pc}')\n",
    "    \n",
    "def execute_opcode(prog, pc, input, opcode, mode1, mode2, mode3):\n",
    "    validate_opcode(opcode, pc)\n",
    "\n",
    "    def get_arg(p, mode):\n",
    "        arg = prog[pc + p]\n",
    "        return prog[arg] if mode == 0 else arg\n",
    "\n",
    "    # SAV, OUT\n",
    "    if opcode == SAV:\n",
    "        prog[prog[pc + 1]] = input\n",
    "        return pc + 2\n",
    "    elif opcode == OUT:\n",
    "        print(prog[prog[pc + 1]])\n",
    "        return pc + 2\n",
    "\n",
    "    arg1 = get_arg(1, mode1)\n",
    "    arg2 = get_arg(2, mode2)\n",
    "\n",
    "    # conditions\n",
    "    if opcode == JT:\n",
    "        return arg2 if arg1 else pc + 3\n",
    "    elif opcode == JF:\n",
    "        return arg2 if not arg1 else pc + 3\n",
    "    elif opcode == LT:\n",
    "        prog[prog[pc + 3]] = 1 if arg1 < arg2 else 0\n",
    "        return pc + 4\n",
    "    elif opcode == EQ:\n",
    "        prog[prog[pc + 3]] = 1 if arg1 == arg2 else 0\n",
    "        return pc + 4\n",
    "\n",
    "    # ADD, MUL\n",
    "    if opcode == ADD:\n",
    "        prog[prog[pc + 3]] = arg1 + arg2\n",
    "    elif opcode == MUL:\n",
    "        prog[prog[pc + 3]] = arg1 * arg2\n",
    "\n",
    "    return pc + 4\n",
    "\n",
    "def run_program(prog, input):\n",
    "    pc = 0\n",
    "    \n",
    "    while prog[pc] != HLT:\n",
    "        try:\n",
    "            opcode = prog[pc]\n",
    "            pc = execute_opcode(prog, pc, input, *decode_opcode(opcode))\n",
    "        except Exception as e:\n",
    "            print(f'Error: pc = {pc}\\nprog = {prog}\\nexception: {e}')\n",
    "            return None\n",
    "    \n",
    "    return dd[0]"
   ]
  },
  {
   "cell_type": "code",
   "execution_count": 3,
   "metadata": {},
   "outputs": [
    {
     "name": "stdout",
     "output_type": "stream",
     "text": [
      "3\n",
      "0\n",
      "0\n",
      "0\n",
      "0\n",
      "0\n",
      "0\n",
      "0\n",
      "0\n",
      "9431221\n",
      "CPU times: user 827 µs, sys: 0 ns, total: 827 µs\n",
      "Wall time: 557 µs\n"
     ]
    },
    {
     "data": {
      "text/plain": [
       "3"
      ]
     },
     "execution_count": 3,
     "metadata": {},
     "output_type": "execute_result"
    }
   ],
   "source": [
    "%%time\n",
    "dd = program.copy()\n",
    "run_program(dd, 1)"
   ]
  },
  {
   "cell_type": "code",
   "execution_count": 4,
   "metadata": {},
   "outputs": [
    {
     "name": "stdout",
     "output_type": "stream",
     "text": [
      "1409363\n",
      "CPU times: user 452 µs, sys: 43 µs, total: 495 µs\n",
      "Wall time: 404 µs\n"
     ]
    },
    {
     "data": {
      "text/plain": [
       "314"
      ]
     },
     "execution_count": 4,
     "metadata": {},
     "output_type": "execute_result"
    }
   ],
   "source": [
    "%%time\n",
    "dd = program.copy()\n",
    "run_program(dd, 5)"
   ]
  },
  {
   "cell_type": "code",
   "execution_count": null,
   "metadata": {},
   "outputs": [],
   "source": []
  }
 ],
 "metadata": {
  "kernelspec": {
   "display_name": "Python 3",
   "language": "python",
   "name": "python3"
  },
  "language_info": {
   "codemirror_mode": {
    "name": "ipython",
    "version": 3
   },
   "file_extension": ".py",
   "mimetype": "text/x-python",
   "name": "python",
   "nbconvert_exporter": "python",
   "pygments_lexer": "ipython3",
   "version": "3.6.9"
  }
 },
 "nbformat": 4,
 "nbformat_minor": 2
}
