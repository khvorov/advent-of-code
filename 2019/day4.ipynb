{
 "cells": [
  {
   "cell_type": "code",
   "execution_count": 1,
   "metadata": {},
   "outputs": [
    {
     "name": "stdout",
     "output_type": "stream",
     "text": [
      "CPU times: user 372 ms, sys: 2.03 ms, total: 374 ms\n",
      "Wall time: 371 ms\n"
     ]
    }
   ],
   "source": [
    "%%time\n",
    "\n",
    "count1 = 0\n",
    "count2 = 0\n",
    "\n",
    "for i in range(197487, 673251):\n",
    "    curr = i % 10\n",
    "    j = i // 10\n",
    "    has_pair = False\n",
    "\n",
    "    while j != 0:\n",
    "        next = j % 10\n",
    "        \n",
    "        if next > curr:\n",
    "            break\n",
    "            \n",
    "        if next == curr:\n",
    "            has_pair = True\n",
    "            \n",
    "        curr = next\n",
    "        j //= 10\n",
    "            \n",
    "    if j == 0 and has_pair:\n",
    "        count1 += 1\n",
    "        \n",
    "        # part 2\n",
    "        count = [0 for _ in range(10)]\n",
    "\n",
    "        j = i\n",
    "        while j != 0:\n",
    "            d = j % 10\n",
    "            count[d] += 1\n",
    "            j //= 10\n",
    "\n",
    "        if 2 in count:\n",
    "            count2 += 1"
   ]
  },
  {
   "cell_type": "code",
   "execution_count": 2,
   "metadata": {},
   "outputs": [
    {
     "data": {
      "text/plain": [
       "1640"
      ]
     },
     "execution_count": 2,
     "metadata": {},
     "output_type": "execute_result"
    }
   ],
   "source": [
    "count1"
   ]
  },
  {
   "cell_type": "code",
   "execution_count": 3,
   "metadata": {},
   "outputs": [
    {
     "data": {
      "text/plain": [
       "1126"
      ]
     },
     "execution_count": 3,
     "metadata": {},
     "output_type": "execute_result"
    }
   ],
   "source": [
    "count2"
   ]
  },
  {
   "cell_type": "code",
   "execution_count": 14,
   "metadata": {},
   "outputs": [
    {
     "name": "stdout",
     "output_type": "stream",
     "text": [
      "CPU times: user 446 ms, sys: 2.99 ms, total: 449 ms\n",
      "Wall time: 446 ms\n"
     ]
    }
   ],
   "source": [
    "%%time\n",
    "\n",
    "count1 = 0\n",
    "count2 = 0\n",
    "\n",
    "# 197487 => 197490 = 197480 + 10\n",
    "# 197490 => 197500 = 197490 + 10\n",
    "# 197500 => 197500\n",
    "# 197488 => (8, 8), (8, 4), (4, 7) => 197000 & 197400 => 19800 => j + 10^(next + 1)\n",
    "\n",
    "i = 197487\n",
    "while i <= 673251:\n",
    "    curr = i % 10\n",
    "    j = i // 10\n",
    "    has_pair = False\n",
    "\n",
    "    k = 0\n",
    "\n",
    "    while j != 0:\n",
    "        next = j % 10\n",
    "        \n",
    "        if next > curr:\n",
    "            \n",
    "            break\n",
    "            \n",
    "        if next == curr:\n",
    "            has_pair = True\n",
    "            \n",
    "        curr = next\n",
    "        j //= 10\n",
    "        k += 1\n",
    "            \n",
    "    if j == 0 and has_pair:\n",
    "        count1 += 1\n",
    "        \n",
    "        # part 2\n",
    "        count = [0 for _ in range(10)]\n",
    "\n",
    "        j = i\n",
    "        while j != 0:\n",
    "            d = j % 10\n",
    "            count[d] += 1\n",
    "            j //= 10\n",
    "\n",
    "        if 2 in count:\n",
    "            count2 += 1\n",
    "            \n",
    "    i += 1"
   ]
  },
  {
   "cell_type": "code",
   "execution_count": 15,
   "metadata": {},
   "outputs": [
    {
     "name": "stdout",
     "output_type": "stream",
     "text": [
      "1640 1126\n"
     ]
    }
   ],
   "source": [
    "print(count1, count2)"
   ]
  },
  {
   "cell_type": "code",
   "execution_count": 33,
   "metadata": {},
   "outputs": [],
   "source": [
    "def p10(n):\n",
    "    res = 0\n",
    "\n",
    "    while n > 0:\n",
    "        n //= 10\n",
    "        res += 1\n",
    "        \n",
    "    return res - 1"
   ]
  },
  {
   "cell_type": "code",
   "execution_count": null,
   "metadata": {},
   "outputs": [],
   "source": [
    "# 198477 => 199000 = 198000 + 1000 = (198 + 1) * 10**3 = (198477 // 10**3 + 1) * 10**3"
   ]
  },
  {
   "cell_type": "code",
   "execution_count": 45,
   "metadata": {},
   "outputs": [
    {
     "name": "stdout",
     "output_type": "stream",
     "text": [
      "CPU times: user 10 µs, sys: 4 µs, total: 14 µs\n",
      "Wall time: 22.4 µs\n"
     ]
    },
    {
     "data": {
      "text/plain": [
       "98447"
      ]
     },
     "execution_count": 45,
     "metadata": {},
     "output_type": "execute_result"
    }
   ],
   "source": [
    "%%time\n",
    "198447 % 10**p10(198447)"
   ]
  },
  {
   "cell_type": "code",
   "execution_count": null,
   "metadata": {},
   "outputs": [],
   "source": []
  }
 ],
 "metadata": {
  "kernelspec": {
   "display_name": "Python 3",
   "language": "python",
   "name": "python3"
  },
  "language_info": {
   "codemirror_mode": {
    "name": "ipython",
    "version": 3
   },
   "file_extension": ".py",
   "mimetype": "text/x-python",
   "name": "python",
   "nbconvert_exporter": "python",
   "pygments_lexer": "ipython3",
   "version": "3.6.9"
  }
 },
 "nbformat": 4,
 "nbformat_minor": 2
}
